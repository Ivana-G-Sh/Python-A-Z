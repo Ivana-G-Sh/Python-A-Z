{
 "cells": [
  {
   "cell_type": "code",
   "execution_count": 1,
   "metadata": {},
   "outputs": [],
   "source": [
    "import numpy as np\n",
    "from numpy.random import randn"
   ]
  },
  {
   "cell_type": "code",
   "execution_count": 2,
   "metadata": {},
   "outputs": [],
   "source": [
    "#generate random numbers, check that the higher sample number the more observations will fall into expected average (68.2%)\n",
    "#hint 1: pass a  value to random function"
   ]
  },
  {
   "cell_type": "code",
   "execution_count": 4,
   "metadata": {},
   "outputs": [
    {
     "name": "stdout",
     "output_type": "stream",
     "text": [
      "0.696\n"
     ]
    }
   ],
   "source": [
    "N = 1000 #specify sample size\n",
    "counter = 0 #reset the counter\n",
    "for i in randn(1000): #iterate over random 100 values\n",
    "    if(i > -1 and i < 1): #check where itterated variable falls\n",
    "        counter =  counter + 1  #increase counter if previous condition is met i.e number is between -1 and 1\n",
    "answer = counter / N #calculate average of values i.e. final 100 numbers/100=sampel size\n",
    "print(answer)"
   ]
  },
  {
   "cell_type": "code",
   "execution_count": null,
   "metadata": {},
   "outputs": [],
   "source": [
    "#the value is slowl converging to 68% as you increase the sample size menaing that 68% of the randomly generated numbers are close to averga e i.e. follow normal distribution"
   ]
  }
 ],
 "metadata": {
  "kernelspec": {
   "display_name": "Python 3",
   "language": "python",
   "name": "python3"
  },
  "language_info": {
   "codemirror_mode": {
    "name": "ipython",
    "version": 3
   },
   "file_extension": ".py",
   "mimetype": "text/x-python",
   "name": "python",
   "nbconvert_exporter": "python",
   "pygments_lexer": "ipython3",
   "version": "3.8.5"
  }
 },
 "nbformat": 4,
 "nbformat_minor": 4
}
